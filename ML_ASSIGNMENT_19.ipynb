{
 "cells": [
  {
   "cell_type": "markdown",
   "metadata": {},
   "source": [
    "# *CS5920J  Assignment -1*\n",
    "## *IMPLEMENTATION OF K-NEAREST NEIGHBOUR ALGORITHM*\n",
    "(without using scikit-learn functionality)...."
   ]
  },
  {
   "cell_type": "markdown",
   "metadata": {},
   "source": [
    "### Implementation:\n",
    "**Step-1:**\n",
    "1. Loading and splitting the Iris data set into Train and Test sets with sklearn library.\n",
    "2. Loading and splitting the Ionosphere data set into Train and Test set with genfromtxt()function and          sklearn library."
   ]
  },
  {
   "cell_type": "code",
   "execution_count": 1,
   "metadata": {},
   "outputs": [],
   "source": [
    "import numpy as np\n",
    "from sklearn.datasets import load_iris\n",
    "# loading train and test sets for Iris Data Set.....\n",
    "iris = load_iris()\n",
    "from sklearn.model_selection import train_test_split\n",
    "X_train_IRIS, X_test_IRIS, y_train_IRIS, y_test_IRIS = train_test_split(iris['data'],\n",
    "iris['target'],test_size=0.3,train_size=0.7 ,random_state=1905)\n",
    "# loading train and test sets for Ionosphere Data Set.....\n",
    "X = np.genfromtxt(\"ionosphere.txt\",delimiter=\",\")\n",
    "y=X[0:351,34]\n",
    "x=X[0:351,0:34]\n",
    "X_train_IONO, X_test_IONO, y_train_IONO, y_test_IONO = train_test_split(x,\n",
    "y,test_size=0.3,train_size=0.7, random_state=1905)"
   ]
  },
  {
   "cell_type": "markdown",
   "metadata": {},
   "source": [
    "**Step-2:**\n",
    "1. Writing a function to take inputs from X_train and X_test and calculated and return the Euclidean distance    between them.\n",
    "2. Writing a function to sort the above generated Euclidean distances."
   ]
  },
  {
   "cell_type": "code",
   "execution_count": 36,
   "metadata": {},
   "outputs": [],
   "source": [
    "# calculate the Euclidean distance between two vectors....\n",
    "def euclidean_distance(tr1, tr2):\n",
    "    distance = 0.0\n",
    "    for i in range(len(tr1)):\n",
    "        distance += (tr1[i] - tr2[i])**2\n",
    "    return (distance**1/2)\n",
    "# sorting the euclidean distances in order to acquire the K_nearest_neighbours....\n",
    "def Sort(d):\n",
    "    for i in range(len(d)):\n",
    "        for j in range(i+1,len(d)):\n",
    "            if d[i]>d[j]:\n",
    "                d[i],d[j]=d[j],d[i]\n",
    "    return d            \n",
    "            "
   ]
  },
  {
   "cell_type": "markdown",
   "metadata": {},
   "source": [
    "**Step-3:**\n",
    "1. Writing a function which takes x train and test values along with k and return the predicted labels.\n",
    "2. Writing a function to calculate the accuaracy of predicted data with respect to  y_test."
   ]
  },
  {
   "cell_type": "code",
   "execution_count": 37,
   "metadata": {},
   "outputs": [],
   "source": [
    "class knn :\n",
    "    def predict(X_train, X_test, y_train,k):\n",
    "        # The predicted labeles are considered as Y_hat.....\n",
    "        Y_hat = []\n",
    "        # Calculating the Euclidean distance from X_test to X_train and sorting them.....\n",
    "        for i in range(len(X_test)):\n",
    "            distances = []\n",
    "        # Indexing is done for calculated Euclidean distances to predict Y_hat with respect to y_train....   \n",
    "            index=0\n",
    "            for j in (X_train):\n",
    "                distances.append((euclidean_distance(X_test[i,:],j),index))\n",
    "                index+=1\n",
    "            sorted_distances=Sort(distances)\n",
    "         # Calculating the nearest neighbours for given k for each X_test with respect to X_train....   \n",
    "            k_nearest_neighbors = [y_train[sorted_distances[i][1]] for i in range(k)]\n",
    "            Y_hat.append(max(k_nearest_neighbors, key=k_nearest_neighbors.count))\n",
    "        return(Y_hat)\n",
    "class KNN :    \n",
    "    def score(y_test,Y_hat):\n",
    "        accuracy = np.mean(y_test==np.array(Y_hat))\n",
    "        return (accuracy)\n",
    "        "
   ]
  },
  {
   "cell_type": "markdown",
   "metadata": {},
   "source": [
    "**Step-4:**\n",
    "1. **Considering Nearest Neigbours as one i.e k=1**\n",
    "2. Calculating Percentage of Accuarcy and Test Error Rate for IRIS data set for k=1 \n"
   ]
  },
  {
   "cell_type": "code",
   "execution_count": 38,
   "metadata": {},
   "outputs": [
    {
     "name": "stdout",
     "output_type": "stream",
     "text": [
      "ENTER K : 1\n",
      "Percentage of Accuracy for IRIS data set is 95.56%\n",
      "Percentage of Test Error Rate for IRIS data set is 4.44%\n"
     ]
    }
   ],
   "source": [
    "# Taking the Number of Neighbours(k) as input from user......\n",
    "k=int(input('ENTER K : '))\n",
    "# Predicted labels from trained data is stored Y_hat_iris....\n",
    "Y_hat_iris=knn.predict(X_train_IRIS, X_test_IRIS, y_train_IRIS,k)\n",
    "accuracy_iris=KNN.score(y_test_IRIS,Y_hat_iris)\n",
    "# Printing the accuaracy and test error rate with 2 decimal points....\n",
    "print('Percentage of Accuracy for IRIS data set is ' +str(round(accuracy_iris*100,2))+'%')\n",
    "print('Percentage of Test Error Rate for IRIS data set is '+str(round((1-accuracy_iris)*100,2))+'%') "
   ]
  },
  {
   "cell_type": "markdown",
   "metadata": {},
   "source": [
    "**Step-5:**\n",
    "1. **Considering Nearest Neigbours as three i.e k=3**\n",
    "2. Calculating Percentage of Accuarcy and Test Error Rate for IRIS data set for k=3"
   ]
  },
  {
   "cell_type": "code",
   "execution_count": 39,
   "metadata": {},
   "outputs": [
    {
     "name": "stdout",
     "output_type": "stream",
     "text": [
      "ENTER K : 3\n",
      "Percentage of Accuracy for IRIS data set is 95.56%\n",
      "Percentage of Test Error Rate for IRIS data set is 4.44%\n"
     ]
    }
   ],
   "source": [
    "# Taking the Number of Neighbours(k) as input from user......\n",
    "k=int(input('ENTER K : '))\n",
    "# Predicted labels from trained data is stored Y_hat_iris....\n",
    "Y_hat_iris=knn.predict(X_train_IRIS, X_test_IRIS, y_train_IRIS,k)\n",
    "accuracy_iris=KNN.score(y_test_IRIS,Y_hat_iris)\n",
    "# Printing the accuaracy and test error rate with 2 decimal points....\n",
    "print('Percentage of Accuracy for IRIS data set is ' +str(round(accuracy_iris*100,2))+'%')\n",
    "print('Percentage of Test Error Rate for IRIS data set is '+str(round((1-accuracy_iris)*100,2))+'%')"
   ]
  },
  {
   "cell_type": "markdown",
   "metadata": {},
   "source": [
    "**Step-6:**\n",
    "1. **Considering Nearest Neigbours as one i.e k=1**\n",
    "2. Calculating Percentage of Accuarcy and Test Error Rate for IONOSPHERE data set for k=1"
   ]
  },
  {
   "cell_type": "code",
   "execution_count": 40,
   "metadata": {},
   "outputs": [
    {
     "name": "stdout",
     "output_type": "stream",
     "text": [
      "ENTER K : 1\n",
      "Percentage of Accuracy for IONOSPHERE data set is 86.79%\n",
      "Percentage of Test Error Rate for IONOSPHERE data set is 13.21%\n"
     ]
    }
   ],
   "source": [
    "# Taking the Number of Neighbours(k) as input from user......\n",
    "k=int(input('ENTER K : '))\n",
    "# Predicted labels from trained data is stored Y_hat_iono....\n",
    "Y_hat_iono=knn.predict(X_train_IONO, X_test_IONO, y_train_IONO,k)\n",
    "accuracy_iono=KNN.score(y_test_IONO,Y_hat_iono)\n",
    "# Printing the accuaracy and test error rate with 2 decimal points....\n",
    "print('Percentage of Accuracy for IONOSPHERE data set is ' +str(round(accuracy_iono*100,2))+'%')\n",
    "print('Percentage of Test Error Rate for IONOSPHERE data set is '+str(round((1-accuracy_iono)*100,2))+'%') "
   ]
  },
  {
   "cell_type": "markdown",
   "metadata": {},
   "source": [
    "**Step-7:**\n",
    "1. **Considering Nearest Neigbours as three i.e k=3**\n",
    "2. Calculating Percentage of Accuarcy and Test Error Rate for IONOSPHERE data set for k=3"
   ]
  },
  {
   "cell_type": "code",
   "execution_count": 41,
   "metadata": {},
   "outputs": [
    {
     "name": "stdout",
     "output_type": "stream",
     "text": [
      "ENTER K : 3\n",
      "Percentage of Accuracy for IONOSPHERE data set is 87.74%\n",
      "Percentage of Test Error Rate for IONOSPHERE data set is 12.26%\n"
     ]
    }
   ],
   "source": [
    "# Taking the Number of Neighbours(k) as input from user......\n",
    "k=int(input('ENTER K : '))\n",
    "# Predicted labels from trained data is stored Y_hat_iono....\n",
    "Y_hat_iono=knn.predict(X_train_IONO, X_test_IONO, y_train_IONO,k)\n",
    "accuracy_iono=KNN.score(y_test_IONO,Y_hat_iono)\n",
    "# Printing the accuaracy and test error rate with 2 decimal points....\n",
    "print('Percentage of Accuracy for IONOSPHERE data set is ' +str(round(accuracy_iono*100,2))+'%')\n",
    "print('Percentage of Test Error Rate for IONOSPHERE data set is '+str(round((1-accuracy_iono)*100,2))+'%') "
   ]
  },
  {
   "cell_type": "markdown",
   "metadata": {},
   "source": [
    "# Validating above Generated Results with SK-Learn :\n",
    "## Implementation of K-Nearest Neighbour Algorithm using Scikit-Learn :"
   ]
  },
  {
   "cell_type": "markdown",
   "metadata": {},
   "source": [
    "**1. Checking Accuarcy and Test error rate at K=1 For IRIS Data Set**"
   ]
  },
  {
   "cell_type": "code",
   "execution_count": 18,
   "metadata": {},
   "outputs": [
    {
     "name": "stdout",
     "output_type": "stream",
     "text": [
      "K is equal to 1\n",
      "Percentage of Accuracy for IONOSPHERE data set is 95.56%\n",
      "Percentage of Test Error Rate for IONOSPHERE data set is 4.44%\n"
     ]
    }
   ],
   "source": [
    "from sklearn.neighbors import KNeighborsClassifier \n",
    "knn = KNeighborsClassifier(n_neighbors=1)\n",
    "knn.fit(X_train_IRIS, y_train_IRIS)\n",
    "y_pred = knn.predict(X_test_IRIS)\n",
    "accuracy_iris=np.mean(y_pred == y_test_IRIS)\n",
    "print('K is equal to 1')\n",
    "print('Percentage of Accuracy for IONOSPHERE data set is ' +str(round(accuracy_iris*100,2))+'%')\n",
    "print('Percentage of Test Error Rate for IONOSPHERE data set is '+str(round((1-accuracy_iris)*100,2))+'%') "
   ]
  },
  {
   "cell_type": "markdown",
   "metadata": {},
   "source": [
    "**2. Checking Accuarcy and Test error rate at K=3 For IRIS Data Set**"
   ]
  },
  {
   "cell_type": "code",
   "execution_count": 19,
   "metadata": {},
   "outputs": [
    {
     "name": "stdout",
     "output_type": "stream",
     "text": [
      "K is equal to 3\n",
      "Percentage of Accuracy for IONOSPHERE data set is 95.56%\n",
      "Percentage of Test Error Rate for IONOSPHERE data set is 4.44%\n"
     ]
    }
   ],
   "source": [
    "from sklearn.neighbors import KNeighborsClassifier \n",
    "knn = KNeighborsClassifier(n_neighbors=3)\n",
    "knn.fit(X_train_IRIS, y_train_IRIS)\n",
    "y_pred = knn.predict(X_test_IRIS)\n",
    "accuracy_iris=np.mean(y_pred == y_test_IRIS)\n",
    "print('K is equal to 3')\n",
    "print('Percentage of Accuracy for IONOSPHERE data set is ' +str(round(accuracy_iris*100,2))+'%')\n",
    "print('Percentage of Test Error Rate for IONOSPHERE data set is '+str(round((1-accuracy_iris)*100,2))+'%') "
   ]
  },
  {
   "cell_type": "markdown",
   "metadata": {},
   "source": [
    "**3. Checking Accuarcy and Test error rate at K=1 For IONOSPHERE Data Set**"
   ]
  },
  {
   "cell_type": "code",
   "execution_count": 20,
   "metadata": {},
   "outputs": [
    {
     "name": "stdout",
     "output_type": "stream",
     "text": [
      "K is equal to 1\n",
      "Percentage of Accuracy for IONOSPHERE data set is 86.79%\n",
      "Percentage of Test Error Rate for IONOSPHERE data set is 13.21%\n"
     ]
    }
   ],
   "source": [
    "from sklearn.neighbors import KNeighborsClassifier \n",
    "knn = KNeighborsClassifier(n_neighbors=1)\n",
    "knn.fit(X_train_IONO, y_train_IONO)\n",
    "y_pred = knn.predict(X_test_IONO)\n",
    "accuracy_iono=np.mean(y_pred == y_test_IONO)\n",
    "print('K is equal to 1')\n",
    "print('Percentage of Accuracy for IONOSPHERE data set is ' +str(round(accuracy_iono*100,2))+'%')\n",
    "print('Percentage of Test Error Rate for IONOSPHERE data set is '+str(round((1-accuracy_iono)*100,2))+'%') "
   ]
  },
  {
   "cell_type": "markdown",
   "metadata": {},
   "source": [
    "**4. Checking Accuarcy and Test error rate at K=3 For IONOSPHERE Data Set**"
   ]
  },
  {
   "cell_type": "code",
   "execution_count": 21,
   "metadata": {},
   "outputs": [
    {
     "name": "stdout",
     "output_type": "stream",
     "text": [
      "K is equal to 3\n",
      "Percentage of Accuracy for IONOSPHERE data set is 87.74%\n",
      "Percentage of Test Error Rate for IONOSPHERE data set is 12.26%\n"
     ]
    }
   ],
   "source": [
    "from sklearn.neighbors import KNeighborsClassifier \n",
    "knn = KNeighborsClassifier(n_neighbors=3)\n",
    "knn.fit(X_train_IONO, y_train_IONO)\n",
    "y_pred = knn.predict(X_test_IONO)\n",
    "accuracy_iono=np.mean(y_pred == y_test_IONO)\n",
    "print('K is equal to 3')\n",
    "print('Percentage of Accuracy for IONOSPHERE data set is ' +str(round(accuracy_iono*100,2))+'%')\n",
    "print('Percentage of Test Error Rate for IONOSPHERE data set is '+str(round((1-accuracy_iono)*100,2))+'%') "
   ]
  }
 ],
 "metadata": {
  "kernelspec": {
   "display_name": "Python 3",
   "language": "python",
   "name": "python3"
  },
  "language_info": {
   "codemirror_mode": {
    "name": "ipython",
    "version": 3
   },
   "file_extension": ".py",
   "mimetype": "text/x-python",
   "name": "python",
   "nbconvert_exporter": "python",
   "pygments_lexer": "ipython3",
   "version": "3.8.5"
  },
  "widgets": {
   "application/vnd.jupyter.widget-state+json": {
    "state": {},
    "version_major": 2,
    "version_minor": 0
   }
  }
 },
 "nbformat": 4,
 "nbformat_minor": 4
}
