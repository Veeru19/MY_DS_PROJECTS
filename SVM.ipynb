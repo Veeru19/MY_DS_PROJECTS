{
 "cells": [
  {
   "cell_type": "markdown",
   "metadata": {},
   "source": [
    "# CS5920J Assessed Coursework \n",
    "## Assignment 3"
   ]
  },
  {
   "cell_type": "markdown",
   "metadata": {},
   "source": [
    "### STEP1: Loading Wine and USPS Data Sets into Test and Train data  in Python(This step involves both Task1 and Task2 in the given coursework)"
   ]
  },
  {
   "cell_type": "code",
   "execution_count": 1,
   "metadata": {},
   "outputs": [],
   "source": [
    "import numpy as np\n",
    "from sklearn.model_selection import train_test_split\n",
    "# loading wine data\n",
    "from sklearn.datasets import load_wine\n",
    "winedata = load_wine()\n",
    "X=winedata.data\n",
    "Y=winedata.target\n",
    "xw_train,xw_test,yw_train,yw_test=train_test_split(X,Y,random_state=519)\n",
    "\n",
    "# loading usps data\n",
    "usps_test=np.genfromtxt(\"zip.test\",skip_header=1)\n",
    "usps_train=np.genfromtxt(\"zip.train\",skip_header=1)\n",
    "# The training and test sets are combined to maintain the consistnecy between the sets\n",
    "merge_test_train_usps=np.concatenate((usps_train,usps_test),axis=0)\n",
    "# merge_test_train_usps.shape\n",
    "y=merge_test_train_usps[0:9296,0]\n",
    "x=merge_test_train_usps[0:9296,1:257]\n",
    "xu_train,xu_test,yu_train,yu_test=train_test_split(x,y,random_state=519)\n"
   ]
  },
  {
   "cell_type": "markdown",
   "metadata": {},
   "source": [
    "### STEP2 : Predicting the Error Rate with and without using Cross Validation.(This step involves both Task3 and Task4)"
   ]
  },
  {
   "cell_type": "code",
   "execution_count": 2,
   "metadata": {},
   "outputs": [
    {
     "name": "stdout",
     "output_type": "stream",
     "text": [
      "For the Wine Data Set:\n",
      "\n",
      "The Cross_Val score for Wine Data Set is:  [0.74074074 0.74074074 0.77777778 0.84615385 0.61538462]\n",
      "The Test Accuracy for Wine Data Set using Cross_Validation is : 74.42%\n",
      "The Test Error Rate for Wine Data Set using Cross_Validation is :25.58%\n",
      "The Test Accuracy for Wine Data Set without using Cross_Validation is :62.22%\n",
      "The Test Error Rate for Wine Data Set without using Cross_Validation is :37.78%\n",
      "\n",
      "\n",
      "For the USPS Data Set:\n",
      "\n",
      "The Cross_Val score for USPS Data Set is:  [0.98064516 0.96344086 0.9713056  0.96915352 0.97991392]\n",
      "The Test Accuracy for USPS Data Set using Cross_Validation is : 97.29%\n",
      "The Test Error Rate for USPS Data Set using Cross_Validation is :2.71%\n",
      "The Test Accuracy for USPS Data Set without using Cross_Validation is :96.9%\n",
      "The Test Error Rate for USPS Data Set without using Cross_Validation is :3.1%\n",
      "\n",
      "\n"
     ]
    }
   ],
   "source": [
    "# predicting the error rate using svm\n",
    "from sklearn.svm import SVC\n",
    "from sklearn.model_selection import cross_val_score\n",
    "svm=SVC()\n",
    "cross_val=cross_val_score(svm, xw_train, yw_train)\n",
    "print('For the Wine Data Set:\\n')\n",
    "print(\"The Cross_Val score for Wine Data Set is: \",cross_val)\n",
    "m=np.mean(cross_val)\n",
    "print(\"The Test Accuracy for Wine Data Set using Cross_Validation is : \"+str(round(m*100,2))+'%')\n",
    "print(\"The Test Error Rate for Wine Data Set using Cross_Validation is :\"+str(round((1-m)*100,2))+'%')\n",
    "\n",
    "svm.fit(xw_train,yw_train)\n",
    "w_acc=svm.score(xw_test,yw_test)\n",
    "print(\"The Test Accuracy for Wine Data Set without using Cross_Validation is :\"+str(round(w_acc*100,2))+'%')\n",
    "print(\"The Test Error Rate for Wine Data Set without using Cross_Validation is :\"+str(round((1-w_acc)*100,2))+'%')\n",
    "print('\\n')\n",
    "\n",
    "cross_val=cross_val_score(svm, xu_train, yu_train)\n",
    "print('For the USPS Data Set:\\n')\n",
    "print(\"The Cross_Val score for USPS Data Set is: \",cross_val)\n",
    "mu=np.mean(cross_val)\n",
    "print(\"The Test Accuracy for USPS Data Set using Cross_Validation is : \"+str(round(mu*100,2))+'%')\n",
    "print(\"The Test Error Rate for USPS Data Set using Cross_Validation is :\"+str(round((1-mu)*100,2))+'%')\n",
    "\n",
    "svm.fit(xu_train,yu_train)\n",
    "u_acc=svm.score(xu_test,yu_test)\n",
    "print(\"The Test Accuracy for USPS Data Set without using Cross_Validation is :\"+str(round(u_acc*100,2))+'%')\n",
    "print(\"The Test Error Rate for USPS Data Set without using Cross_Validation is :\"+str(round((1-u_acc)*100,2))+'%')\n",
    "print('\\n')\n",
    "\n"
   ]
  },
  {
   "cell_type": "markdown",
   "metadata": {},
   "source": [
    "### From the above results we observe that estimating error rate using Cross Validation is more accurate."
   ]
  },
  {
   "cell_type": "markdown",
   "metadata": {},
   "source": [
    "### STEP3: Finding the accuracy best params and test score using Standard scaler and Normalizer Functions and Predicting the test labels using GridSearchCV.(This step involves both Task 5 and Task 6)"
   ]
  },
  {
   "cell_type": "code",
   "execution_count": 6,
   "metadata": {},
   "outputs": [
    {
     "name": "stdout",
     "output_type": "stream",
     "text": [
      "Using Standard Scaler Normalization :\n",
      "\n",
      "For the Wine Data Set:\n",
      "\n",
      "Best cross-validation accuracy for Wine Data Set: 99.26%\n",
      "Best parameters for Wine Data Set:  {'svc__C': 1, 'svc__gamma': 0.1}\n",
      "Test score for Wine Data Set: 97.78%\n",
      "\n",
      "\n",
      "For the USPS Data Set:\n",
      "\n",
      "Best cross-validation accuracy for USPS Data Set: 93.42%\n",
      "Best parameters for USPS Data Set:  {'svc__C': 10, 'svc__gamma': 0.01}\n",
      "Test score for USPS Data Set: 94.28%\n",
      "\n",
      "\n"
     ]
    }
   ],
   "source": [
    "from sklearn.model_selection import GridSearchCV\n",
    "from sklearn.pipeline import make_pipeline\n",
    "from sklearn.preprocessing import StandardScaler\n",
    "pipe = make_pipeline(StandardScaler(), SVC())\n",
    "param_grid = {'svc__C': [0.01, 0.1, 1, 10, 100, 100], 'svc__gamma': [0.01, 0.1, 1, 10, 100]}\n",
    "grid = GridSearchCV(pipe, param_grid=param_grid, cv=5,n_jobs=-1)\n",
    "grid.fit(xw_train, yw_train)\n",
    "print('Using Standard Scaler Normalization :\\n')\n",
    "print('For the Wine Data Set:\\n')\n",
    "print(\"Best cross-validation accuracy for Wine Data Set: \"+str(round(grid.best_score_*100,2))+'%')\n",
    "print(\"Best parameters for Wine Data Set: \", grid.best_params_)\n",
    "print(\"Test score for Wine Data Set: \"+str(round(grid.score(xw_test, yw_test)*100,2))+'%')\n",
    "print('\\n')\n",
    "ugrid = GridSearchCV(pipe, param_grid=param_grid, cv=5,n_jobs=-1)\n",
    "ugrid.fit(xu_train, yu_train)\n",
    "print('For the USPS Data Set:\\n')\n",
    "print(\"Best cross-validation accuracy for USPS Data Set: \"+str(round(ugrid.best_score_*100,2))+'%')\n",
    "print(\"Best parameters for USPS Data Set: \", ugrid.best_params_)\n",
    "print(\"Test score for USPS Data Set: \"+str(round(ugrid.score(xu_test, yu_test)*100,2))+'%')\n",
    "print('\\n')\n",
    "\n",
    "\n"
   ]
  },
  {
   "cell_type": "code",
   "execution_count": 5,
   "metadata": {},
   "outputs": [
    {
     "name": "stdout",
     "output_type": "stream",
     "text": [
      "Using Normalizer Normalization :\n",
      "\n",
      "For the Wine Data Set:\n",
      "\n",
      "Best cross-validation accuracy for Wine Data Set: 90.91%\n",
      "Best parameters for Wine Data Set:  {'svc__C': 10, 'svc__gamma': 100}\n",
      "Test score for Wine Data Set: 88.89%\n",
      "\n",
      "\n",
      "For the USPS Data Set:\n",
      "\n",
      "Best cross-validation accuracy for USPS Data Set: 97.52%\n",
      "Best parameters for USPS Data Set:  {'svc__C': 10, 'svc__gamma': 1}\n",
      "Test score for USPS Data Set: 97.03%\n",
      "\n",
      "\n"
     ]
    }
   ],
   "source": [
    "from sklearn.model_selection import GridSearchCV\n",
    "from sklearn.pipeline import make_pipeline\n",
    "from sklearn.preprocessing import Normalizer\n",
    "pipe = make_pipeline(Normalizer(), SVC())\n",
    "param_grid = {'svc__C': [0.01, 0.1, 1, 10, 100, 100], 'svc__gamma': [0.01, 0.1, 1, 10, 100]}\n",
    "grid = GridSearchCV(pipe, param_grid=param_grid, cv=5,n_jobs=-1)\n",
    "grid.fit(xw_train, yw_train)\n",
    "print('Using Normalizer Normalization :\\n')\n",
    "print('For the Wine Data Set:\\n')\n",
    "print(\"Best cross-validation accuracy for Wine Data Set: \"+str(round(grid.best_score_*100,2))+'%')\n",
    "print(\"Best parameters for Wine Data Set: \", grid.best_params_)\n",
    "print(\"Test score for Wine Data Set: \"+str(round(grid.score(xw_test, yw_test)*100,2))+'%')\n",
    "print('\\n')\n",
    "ugrid = GridSearchCV(pipe, param_grid=param_grid, cv=5,n_jobs=-1)\n",
    "ugrid.fit(xu_train, yu_train)\n",
    "print('For the USPS Data Set:\\n')\n",
    "print(\"Best cross-validation accuracy for USPS Data Set: \"+str(round(ugrid.best_score_*100,2))+'%')\n",
    "print(\"Best parameters for USPS Data Set: \", ugrid.best_params_)\n",
    "print(\"Test score for USPS Data Set: \"+str(round(ugrid.score(xu_test, yu_test)*100,2))+'%')\n",
    "print('\\n')\n",
    "\n"
   ]
  },
  {
   "cell_type": "markdown",
   "metadata": {},
   "source": [
    "### CONFIRMITY SCORES FOR WINE DATA SET"
   ]
  },
  {
   "cell_type": "code",
   "execution_count": 5,
   "metadata": {},
   "outputs": [
    {
     "name": "stdout",
     "output_type": "stream",
     "text": [
      "CS: [[ 2.22221367  0.92944381 -0.21128985]\n",
      " [ 0.83203067  2.22931833 -0.18105059]\n",
      " [ 2.22221367  0.92944381 -0.21128985]\n",
      " [-0.21127934  2.24324233  0.83596329]\n",
      " [-0.21127934  2.24324233  0.83596329]\n",
      " [-0.21127934  2.24324233  0.83596329]\n",
      " [ 0.83203067  2.22931833 -0.18105059]\n",
      " [ 0.83203067  2.22931833 -0.18105059]\n",
      " [ 2.22221367  0.92944381 -0.21128985]\n",
      " [-0.21127934  2.24324233  0.83596329]\n",
      " [ 2.22221367  0.92944381 -0.21128985]\n",
      " [ 0.83203067  2.22931833 -0.18105059]\n",
      " [ 2.22221367  0.92944381 -0.21128985]\n",
      " [ 0.83203067  2.22931833 -0.18105059]\n",
      " [ 2.22221367  0.92944381 -0.21128985]\n",
      " [ 2.22221367  0.92944381 -0.21128985]\n",
      " [ 0.83203067  2.22931833 -0.18105059]\n",
      " [-0.21127934  2.24324233  0.83596329]\n",
      " [ 2.22221367  0.92944381 -0.21128985]\n",
      " [ 0.83203067  2.22931833 -0.18105059]\n",
      " [ 2.22221367  0.92944381 -0.21128985]\n",
      " [ 2.22221367  0.92944381 -0.21128985]\n",
      " [ 2.22221367  0.92944381 -0.21128985]\n",
      " [-0.21127934  2.24324233  0.83596329]\n",
      " [-0.21127934  2.24324233  0.83596329]\n",
      " [-0.21127934  2.24324233  0.83596329]\n",
      " [ 2.22221367  0.92944381 -0.21128985]\n",
      " [-0.21127934  2.24324233  0.83596329]\n",
      " [ 2.22221367  0.92944381 -0.21128985]\n",
      " [ 0.83203067  2.22931833 -0.18105059]\n",
      " [ 0.83203067  2.22931833 -0.18105059]\n",
      " [ 2.22221367  0.92944381 -0.21128985]\n",
      " [-0.21127934  2.24324233  0.83596329]\n",
      " [ 2.22221367  0.92944381 -0.21128985]\n",
      " [ 2.22221367  0.92944381 -0.21128985]\n",
      " [ 2.22221367  0.92944381 -0.21128985]\n",
      " [ 2.22221367  0.92944381 -0.21128985]\n",
      " [ 2.22221367  0.92944381 -0.21128985]\n",
      " [-0.21127934  2.24324233  0.83596329]\n",
      " [ 0.83203067  2.22931833 -0.18105059]\n",
      " [ 2.22221367  0.92944381 -0.21128985]\n",
      " [ 0.83203067  2.22931833 -0.18105059]\n",
      " [ 2.22221367  0.92944381 -0.21128985]\n",
      " [ 2.22221367  0.92944381 -0.21128985]\n",
      " [ 2.22221367  0.92944381 -0.21128985]]\n",
      "CS: [[ 2.22602703  0.90095356 -0.20912278]\n",
      " [ 0.82208267  2.23861656 -0.19295188]\n",
      " [ 2.22602703  0.90095356 -0.20912278]\n",
      " [-0.20413767  2.24529436  0.8177604 ]\n",
      " [-0.20413767  2.24529436  0.8177604 ]\n",
      " [-0.20413767  2.24529436  0.8177604 ]\n",
      " [ 0.82208267  2.23861656 -0.19295188]\n",
      " [ 0.82208267  2.23861656 -0.19295188]\n",
      " [ 2.22602703  0.90095356 -0.20912278]\n",
      " [-0.20413767  2.24529436  0.8177604 ]\n",
      " [ 2.22602703  0.90095356 -0.20912278]\n",
      " [ 0.82208267  2.23861656 -0.19295188]\n",
      " [ 2.22602703  0.90095356 -0.20912278]\n",
      " [ 0.82208267  2.23861656 -0.19295188]\n",
      " [ 2.22602703  0.90095356 -0.20912278]\n",
      " [ 2.22602703  0.90095356 -0.20912278]\n",
      " [ 0.82208267  2.23861656 -0.19295188]\n",
      " [-0.20413767  2.24529436  0.8177604 ]\n",
      " [ 2.22602703  0.90095356 -0.20912278]\n",
      " [ 0.82208267  2.23861656 -0.19295188]\n",
      " [ 2.22602703  0.90095356 -0.20912278]\n",
      " [ 2.22602703  0.90095356 -0.20912278]\n",
      " [ 2.22602703  0.90095356 -0.20912278]\n",
      " [-0.20413767  2.24529436  0.8177604 ]\n",
      " [-0.20413767  2.24529436  0.8177604 ]\n",
      " [-0.20413767  2.24529436  0.8177604 ]\n",
      " [ 2.22602703  0.90095356 -0.20912278]\n",
      " [-0.20413767  2.24529436  0.8177604 ]\n",
      " [ 2.22602703  0.90095356 -0.20912278]\n",
      " [ 0.82208267  2.23861656 -0.19295188]\n",
      " [ 0.82208267  2.23861656 -0.19295188]\n",
      " [ 2.22602703  0.90095356 -0.20912278]\n",
      " [-0.20413767  2.24529436  0.8177604 ]\n",
      " [ 2.22602703  0.90095356 -0.20912278]\n",
      " [ 2.22602703  0.90095356 -0.20912278]\n",
      " [ 2.22602703  0.90095356 -0.20912278]\n",
      " [ 2.22602703  0.90095356 -0.20912278]\n",
      " [ 2.22602703  0.90095356 -0.20912278]\n",
      " [-0.20413767  2.24529436  0.8177604 ]\n",
      " [ 0.82208267  2.23861656 -0.19295188]\n",
      " [ 2.22602703  0.90095356 -0.20912278]\n",
      " [ 0.82208267  2.23861656 -0.19295188]\n",
      " [ 2.22602703  0.90095356 -0.20912278]\n",
      " [ 2.22602703  0.90095356 -0.20912278]\n",
      " [ 2.22602703  0.90095356 -0.20912278]]\n",
      "CS: [[ 2.22540501  0.89292673 -0.20587524]\n",
      " [ 0.81742607  2.23460753 -0.17939194]\n",
      " [ 2.22540501  0.89292673 -0.20587524]\n",
      " [-0.21279644  2.24642426  0.82769563]\n",
      " [-0.21279644  2.24642426  0.82769563]\n",
      " [-0.21279644  2.24642426  0.82769563]\n",
      " [ 0.81742607  2.23460753 -0.17939194]\n",
      " [ 0.81742607  2.23460753 -0.17939194]\n",
      " [ 2.22540501  0.89292673 -0.20587524]\n",
      " [-0.21279644  2.24642426  0.82769563]\n",
      " [ 2.22540501  0.89292673 -0.20587524]\n",
      " [ 0.81742607  2.23460753 -0.17939194]\n",
      " [ 2.22540501  0.89292673 -0.20587524]\n",
      " [ 0.81742607  2.23460753 -0.17939194]\n",
      " [ 2.22540501  0.89292673 -0.20587524]\n",
      " [ 2.22540501  0.89292673 -0.20587524]\n",
      " [ 0.81742607  2.23460753 -0.17939194]\n",
      " [-0.21279644  2.24642426  0.82769563]\n",
      " [ 2.22540501  0.89292673 -0.20587524]\n",
      " [ 0.81742607  2.23460753 -0.17939194]\n",
      " [ 2.22540501  0.89292673 -0.20587524]\n",
      " [ 2.22540501  0.89292673 -0.20587524]\n",
      " [ 2.22540501  0.89292673 -0.20587524]\n",
      " [-0.21279644  2.24642426  0.82769563]\n",
      " [-0.21279644  2.24642426  0.82769563]\n",
      " [-0.21279644  2.24642426  0.82769563]\n",
      " [ 2.22540501  0.89292673 -0.20587524]\n",
      " [-0.21279644  2.24642426  0.82769563]\n",
      " [ 2.22540501  0.89292673 -0.20587524]\n",
      " [ 0.81742607  2.23460753 -0.17939194]\n",
      " [ 0.81742607  2.23460753 -0.17939194]\n",
      " [ 2.22540501  0.89292673 -0.20587524]\n",
      " [-0.21279644  2.24642426  0.82769563]\n",
      " [ 2.22540501  0.89292673 -0.20587524]\n",
      " [ 2.22540501  0.89292673 -0.20587524]\n",
      " [ 2.22540501  0.89292673 -0.20587524]\n",
      " [ 2.22540501  0.89292673 -0.20587524]\n",
      " [ 2.22540501  0.89292673 -0.20587524]\n",
      " [-0.21279644  2.24642426  0.82769563]\n",
      " [ 0.81742607  2.23460753 -0.17939194]\n",
      " [ 2.22540501  0.89292673 -0.20587524]\n",
      " [ 0.81742607  2.23460753 -0.17939194]\n",
      " [ 2.22540501  0.89292673 -0.20587524]\n",
      " [ 2.22540501  0.89292673 -0.20587524]\n",
      " [ 2.22540501  0.89292673 -0.20587524]]\n",
      "CS: [[ 2.24905504  1.02534731 -0.25077299]\n",
      " [ 0.83900026  2.27563159 -0.26449979]\n",
      " [ 2.24905504  1.02534731 -0.25077299]\n",
      " [-0.24487255  2.28031818  0.76138078]\n",
      " [-0.24487255  2.28031818  0.76138078]\n",
      " [-0.24487255  2.28031818  0.76138078]\n",
      " [ 0.83900026  2.27563159 -0.26449979]\n",
      " [ 0.83900026  2.27563159 -0.26449979]\n",
      " [ 2.24905504  1.02534731 -0.25077299]\n",
      " [-0.24487255  2.28031818  0.76138078]\n",
      " [ 2.24905504  1.02534731 -0.25077299]\n",
      " [ 0.83900026  2.27563159 -0.26449979]\n",
      " [ 2.24905504  1.02534731 -0.25077299]\n",
      " [ 0.83900026  2.27563159 -0.26449979]\n",
      " [ 2.24905504  1.02534731 -0.25077299]\n",
      " [ 2.24905504  1.02534731 -0.25077299]\n",
      " [ 0.83900026  2.27563159 -0.26449979]\n",
      " [-0.24487255  2.28031818  0.76138078]\n",
      " [ 2.24905504  1.02534731 -0.25077299]\n",
      " [ 0.83900026  2.27563159 -0.26449979]\n",
      " [ 2.24905504  1.02534731 -0.25077299]\n",
      " [ 2.24905504  1.02534731 -0.25077299]\n",
      " [ 2.24905504  1.02534731 -0.25077299]\n",
      " [-0.24487255  2.28031818  0.76138078]\n",
      " [-0.24487255  2.28031818  0.76138078]\n",
      " [-0.24487255  2.28031818  0.76138078]\n",
      " [ 2.24905504  1.02534731 -0.25077299]\n",
      " [-0.24487255  2.28031818  0.76138078]\n",
      " [ 2.24905504  1.02534731 -0.25077299]\n",
      " [ 0.83900026  2.27563159 -0.26449979]\n",
      " [ 0.83900026  2.27563159 -0.26449979]\n",
      " [ 2.24905504  1.02534731 -0.25077299]\n",
      " [-0.24487255  2.28031818  0.76138078]\n",
      " [ 2.24905504  1.02534731 -0.25077299]\n",
      " [ 2.24905504  1.02534731 -0.25077299]\n",
      " [ 2.24905504  1.02534731 -0.25077299]\n",
      " [ 2.24905504  1.02534731 -0.25077299]\n",
      " [ 2.24905504  1.02534731 -0.25077299]\n",
      " [-0.24487255  2.28031818  0.76138078]\n",
      " [ 0.83900026  2.27563159 -0.26449979]\n",
      " [ 2.24905504  1.02534731 -0.25077299]\n",
      " [ 0.83900026  2.27563159 -0.26449979]\n",
      " [ 2.24905504  1.02534731 -0.25077299]\n",
      " [ 2.24905504  1.02534731 -0.25077299]\n",
      " [ 2.24905504  1.02534731 -0.25077299]]\n",
      "CS: [[ 2.22109618  0.93472091 -0.21107075]\n",
      " [ 0.81880812  2.23752337 -0.18765624]\n",
      " [ 2.22109618  0.93472091 -0.21107075]\n",
      " [-0.21738133  2.24372798  0.84730939]\n",
      " [-0.21738133  2.24372798  0.84730939]\n",
      " [-0.21738133  2.24372798  0.84730939]\n",
      " [ 0.81880812  2.23752337 -0.18765624]\n",
      " [ 0.81880812  2.23752337 -0.18765624]\n",
      " [ 2.22109618  0.93472091 -0.21107075]\n",
      " [-0.21738133  2.24372798  0.84730939]\n",
      " [ 2.22109618  0.93472091 -0.21107075]\n",
      " [ 0.81880812  2.23752337 -0.18765624]\n",
      " [ 2.22109618  0.93472091 -0.21107075]\n",
      " [ 0.81880812  2.23752337 -0.18765624]\n",
      " [ 2.22109618  0.93472091 -0.21107075]\n",
      " [ 2.22109618  0.93472091 -0.21107075]\n",
      " [ 0.81880812  2.23752337 -0.18765624]\n",
      " [-0.21738133  2.24372798  0.84730939]\n",
      " [ 2.22109618  0.93472091 -0.21107075]\n",
      " [ 0.81880812  2.23752337 -0.18765624]\n",
      " [ 2.22109618  0.93472091 -0.21107075]\n",
      " [ 2.22109618  0.93472091 -0.21107075]\n",
      " [ 2.22109618  0.93472091 -0.21107075]\n",
      " [-0.21738133  2.24372798  0.84730939]\n",
      " [-0.21738133  2.24372798  0.84730939]\n",
      " [-0.21738133  2.24372798  0.84730939]\n",
      " [ 2.22109618  0.93472091 -0.21107075]\n",
      " [-0.21738133  2.24372798  0.84730939]\n",
      " [ 2.22109618  0.93472091 -0.21107075]\n",
      " [ 0.81880812  2.23752337 -0.18765624]\n",
      " [ 0.81880812  2.23752337 -0.18765624]\n",
      " [ 2.22109618  0.93472091 -0.21107075]\n",
      " [-0.21738133  2.24372798  0.84730939]\n",
      " [ 2.22109618  0.93472091 -0.21107075]\n",
      " [ 2.22109618  0.93472091 -0.21107075]\n",
      " [ 2.22109618  0.93472091 -0.21107075]\n",
      " [ 2.22109618  0.93472091 -0.21107075]\n",
      " [ 2.22109618  0.93472091 -0.21107075]\n",
      " [-0.21738133  2.24372798  0.84730939]\n",
      " [ 0.81880812  2.23752337 -0.18765624]\n",
      " [ 2.22109618  0.93472091 -0.21107075]\n",
      " [ 0.81880812  2.23752337 -0.18765624]\n",
      " [ 2.22109618  0.93472091 -0.21107075]\n",
      " [ 2.22109618  0.93472091 -0.21107075]\n",
      " [ 2.22109618  0.93472091 -0.21107075]]\n"
     ]
    }
   ],
   "source": [
    "from sklearn.model_selection import KFold\n",
    "from sklearn.svm import SVC\n",
    "from sklearn.model_selection import GridSearchCV\n",
    "from sklearn.pipeline import make_pipeline\n",
    "from sklearn.preprocessing import StandardScaler\n",
    "pipe = make_pipeline(StandardScaler(), SVC())\n",
    "param_grid = {'svc__C': [0.01, 0.1, 1, 10, 100, 100], 'svc__gamma': [0.01, 0.1, 1, 10, 100]}\n",
    "grid = GridSearchCV(pipe, param_grid=param_grid, cv=5,n_jobs=-1)\n",
    "kf = KFold(shuffle=True, random_state=0)\n",
    "no_of_splits=kf.get_n_splits\n",
    "for index, val in kf.split(X):\n",
    "    xw_train, X_val = X[index], X[val]\n",
    "    yw_train, Y_val = Y[index], Y[val]\n",
    "    grid.fit(xw_train,yw_train)\n",
    "    print(\"CS:\", grid.decision_function(xw_test[0:len(xw_train)])[yw_test[0:len(yw_test)]])"
   ]
  },
  {
   "cell_type": "markdown",
   "metadata": {},
   "source": [
    "### CONFIRMITY SCORES FOR USPS DATA SET"
   ]
  },
  {
   "cell_type": "code",
   "execution_count": null,
   "metadata": {},
   "outputs": [
    {
     "name": "stdout",
     "output_type": "stream",
     "text": [
      "CS: [[-0.30157682  9.31339511  2.73901829 ...  4.75386722  7.25441116\n",
      "   6.19844681]\n",
      " [ 6.17301905  9.27964492  3.86503362 ... -0.28879247  7.26206406\n",
      "   0.71034666]\n",
      " [ 6.17641069 -0.29637966  9.29566387 ...  3.9966245   2.95865522\n",
      "   0.74308204]\n",
      " ...\n",
      " [ 6.11916453 -0.29116527  8.25923999 ...  1.80710714  3.88436782\n",
      "   0.73541167]\n",
      " [-0.30157682  9.31339511  2.73901829 ...  4.75386722  7.25441116\n",
      "   6.19844681]\n",
      " [ 7.20524206 -0.29631448  9.27636043 ...  5.16482656  3.09241399\n",
      "   0.74555672]]\n"
     ]
    }
   ],
   "source": [
    "from sklearn.model_selection import KFold\n",
    "from sklearn.svm import SVC\n",
    "from sklearn.model_selection import GridSearchCV\n",
    "from sklearn.pipeline import make_pipeline\n",
    "from sklearn.preprocessing import StandardScaler\n",
    "pipe = make_pipeline(StandardScaler(), SVC())\n",
    "param_grid = {'svc__C': [0.01, 0.1, 1, 10, 100, 100], 'svc__gamma': [0.01, 0.1, 1, 10, 100]}\n",
    "grid = GridSearchCV(pipe, param_grid=param_grid, cv=5,n_jobs=-1)\n",
    "kf = KFold(shuffle=True, random_state=0)\n",
    "no_of_splits=kf.get_n_splits\n",
    "for index, val in kf.split(x):\n",
    "    xu_train, X_val = x[index], x[val]\n",
    "    yu_train, Y_val = y[index], y[val]\n",
    "    grid.fit(xu_train,yu_train)\n",
    "    print(\"CS:\", grid.decision_function(np.int_(xu_test)[0:len(xu_train)])[np.int_(yu_test)[0:len(yu_test)]])"
   ]
  },
  {
   "cell_type": "markdown",
   "metadata": {},
   "source": [
    "### STEP4: Implementing Cross Confirmal Predictor and plotting the Calibration Curve(This step involves Task7 of course work)"
   ]
  },
  {
   "cell_type": "markdown",
   "metadata": {},
   "source": [
    "### FOR THE WINE DATASET"
   ]
  },
  {
   "cell_type": "code",
   "execution_count": 18,
   "metadata": {},
   "outputs": [],
   "source": [
    "import math\n",
    "import numpy as np\n",
    "def dist(x1,x2):\n",
    "  return np.linalg.norm(x1-x2)\n",
    "n_train = xw_train.shape[0]\n",
    "n_test = xw_test.shape[0]\n",
    "dist_own = math.inf * np.ones(n_train)\n",
    "dist_other = math.inf * np.ones(n_train)\n",
    "for i in range(n_train-1):\n",
    "  for j in range(i+1,n_train):\n",
    "    current_dist = dist(xw_train[i],xw_train[j])\n",
    "    if yw_train[i]==yw_train[j]:\n",
    "      if (current_dist < dist_own[i]):\n",
    "        dist_own[i] = current_dist\n",
    "      if (current_dist < dist_own[j]):\n",
    "        dist_own[j] = current_dist\n",
    "    else:\n",
    "      if (current_dist < dist_other[i]):\n",
    "        dist_other[i] = current_dist\n",
    "      if (current_dist < dist_other[j]):\n",
    "        dist_other[j] = current_dist"
   ]
  },
  {
   "cell_type": "code",
   "execution_count": 19,
   "metadata": {},
   "outputs": [],
   "source": [
    "score = np.zeros(n_train+1)  # the conformity scores\n",
    "p = np.zeros((n_test,3))    # the p-values\n",
    "for j in range(n_test):\n",
    "  for l in range(3):   # postulated label\n",
    "    aug_dist_own = np.append(dist_own,math.inf)\n",
    "    aug_dist_other = np.append(dist_other,math.inf)\n",
    "    for i in range(n_train):\n",
    "      current_dist = dist(xw_train[i],xw_test[j])\n",
    "      if yw_train[i]==l:\n",
    "        if (current_dist < aug_dist_own[i]):\n",
    "          aug_dist_own[i] = current_dist\n",
    "        if (current_dist < aug_dist_own[n_train]):\n",
    "          aug_dist_own[n_train] = current_dist\n",
    "      else:\n",
    "        if (current_dist < aug_dist_other[i]):\n",
    "          aug_dist_other[i] = current_dist\n",
    "        if (current_dist < aug_dist_other[n_train]):\n",
    "          aug_dist_other[n_train] = current_dist\n",
    "    # the following for loop is the careful version of score = aug_dist_other / aug_distance_own\n",
    "    for i in range(n_train+1):\n",
    "      if aug_dist_own[i] == 0:\n",
    "        score[i] = math.inf\n",
    "        if (aug_dist_other[i] == 0):\n",
    "          score[i] = 0\n",
    "      else:\n",
    "        score[i] = aug_dist_other[i] / aug_dist_own[i]\n",
    "    p[j,l] = np.mean(score<=score[n_train])"
   ]
  },
  {
   "cell_type": "code",
   "execution_count": 20,
   "metadata": {},
   "outputs": [
    {
     "data": {
      "text/plain": [
       "Text(0, 0.5, 'Significant Level')"
      ]
     },
     "execution_count": 20,
     "metadata": {},
     "output_type": "execute_result"
    },
    {
     "data": {
      "image/png": "[encoded data removed]",
      "text/plain": [
       "<Figure size 432x288 with 1 Axes>"
      ]
     },
     "metadata": {
      "needs_background": "light"
     },
     "output_type": "display_data"
    }
   ],
   "source": [
    "import matplotlib.pyplot as plt\n",
    "eps = np.zeros(100) \n",
    "err = np.zeros(100) \n",
    "for k in range(100):\n",
    "  eps[k] = k/100     \n",
    "  err[k] = 0         \n",
    "  for j in range(n_test):\n",
    "    if (p[j,yw_test[j]] <= eps[k]):  \n",
    "      err[k] = err[k] + 1  \n",
    "  err[k] = err[k] / n_test \n",
    "plt.plot(eps,err)\n",
    "plt.title(\"Calibration Curve\")\n",
    "plt.xlabel(\"Percentage of Errors\")\n",
    "plt.ylabel(\"Significant Level\")\n"
   ]
  },
  {
   "cell_type": "markdown",
   "metadata": {},
   "source": [
    "### FOR THE USPS DATA SET"
   ]
  },
  {
   "cell_type": "code",
   "execution_count": 3,
   "metadata": {},
   "outputs": [],
   "source": [
    "import math\n",
    "import numpy as np\n",
    "def dist1(x1,x2):\n",
    "  return np.linalg.norm(x1-x2)\n",
    "n_train = xu_train.shape[0]\n",
    "n_test = xu_test.shape[0]\n",
    "dist_own = math.inf * np.ones(n_train)\n",
    "dist_other = math.inf * np.ones(n_train)\n",
    "for i in range(n_train-1):\n",
    "  for j in range(i+1,n_train):\n",
    "    current_dist = dist1(xu_train[i],xu_train[j])\n",
    "    if yu_train[i]==yu_train[j]:\n",
    "      if (current_dist < dist_own[i]):\n",
    "        dist_own[i] = current_dist\n",
    "      if (current_dist < dist_own[j]):\n",
    "        dist_own[j] = current_dist\n",
    "    else:\n",
    "      if (current_dist < dist_other[i]):\n",
    "        dist_other[i] = current_dist\n",
    "      if (current_dist < dist_other[j]):\n",
    "        dist_other[j] = current_dist"
   ]
  },
  {
   "cell_type": "code",
   "execution_count": 4,
   "metadata": {},
   "outputs": [],
   "source": [
    "score = np.zeros(n_train+1)  # the conformity scores\n",
    "p = np.zeros((n_test,3))    # the p-values\n",
    "for j in range(n_test):\n",
    "  for l in range(3):   # postulated label\n",
    "    aug_dist_own = np.append(dist_own,math.inf)\n",
    "    aug_dist_other = np.append(dist_other,math.inf)\n",
    "    for i in range(n_train):\n",
    "      current_dist = dist1(xu_train[i],xu_test[j])\n",
    "      if yu_train[i]==l:\n",
    "        if (current_dist < aug_dist_own[i]):\n",
    "          aug_dist_own[i] = current_dist\n",
    "        if (current_dist < aug_dist_own[n_train]):\n",
    "          aug_dist_own[n_train] = current_dist\n",
    "      else:\n",
    "        if (current_dist < aug_dist_other[i]):\n",
    "          aug_dist_other[i] = current_dist\n",
    "        if (current_dist < aug_dist_other[n_train]):\n",
    "          aug_dist_other[n_train] = current_dist\n",
    "    # the following for loop is the careful version of score = aug_dist_other / aug_distance_own\n",
    "    for i in range(n_train+1):\n",
    "      if aug_dist_own[i] == 0:\n",
    "        score[i] = math.inf\n",
    "        if (aug_dist_other[i] == 0):\n",
    "          score[i] = 0\n",
    "      else:\n",
    "        score[i] = aug_dist_other[i] / aug_dist_own[i]\n",
    "    p[j,l] = np.mean(score<=score[n_train])"
   ]
  },
  {
   "cell_type": "code",
   "execution_count": 21,
   "metadata": {},
   "outputs": [
    {
     "data": {
      "text/plain": [
       "Text(0, 0.5, 'Significant Level')"
      ]
     },
     "execution_count": 21,
     "metadata": {},
     "output_type": "execute_result"
    },
    {
     "data": {
      "image/png": "[encoded data removed]",
      "text/plain": [
       "<Figure size 432x288 with 1 Axes>"
      ]
     },
     "metadata": {
      "needs_background": "light"
     },
     "output_type": "display_data"
    }
   ],
   "source": [
    "import matplotlib.pyplot as plt\n",
    "eps = np.zeros(100) \n",
    "err = np.zeros(100) \n",
    "for k in range(100):\n",
    "  eps[k] = k/100     \n",
    "  err[k] = 0         \n",
    "  for j in range(n_test):\n",
    "    if (p[j,np.int_(yu_test[1])] <= eps[k]):  \n",
    "      err[k] = err[k] + 1  \n",
    "  err[k] = err[k] / n_test \n",
    "plt.plot(eps,err)\n",
    "plt.title(\"Calibration Curve\")\n",
    "plt.xlabel(\"Percentage of Errors\")\n",
    "plt.ylabel(\"Significant Level\")\n",
    "\n"
   ]
  },
  {
   "cell_type": "markdown",
   "metadata": {},
   "source": [
    "### NOTE : For the Step 4 labworksheet week9 of CourseWork is used due to some circumstances."
   ]
  },
  {
   "cell_type": "code",
   "execution_count": null,
   "metadata": {},
   "outputs": [],
   "source": []
  }
 ],
 "metadata": {
  "kernelspec": {
   "display_name": "Python 3",
   "language": "python",
   "name": "python3"
  },
  "language_info": {
   "codemirror_mode": {
    "name": "ipython",
    "version": 3
   },
   "file_extension": ".py",
   "mimetype": "text/x-python",
   "name": "python",
   "nbconvert_exporter": "python",
   "pygments_lexer": "ipython3",
   "version": "3.8.5"
  }
 },
 "nbformat": 4,
 "nbformat_minor": 4
}
